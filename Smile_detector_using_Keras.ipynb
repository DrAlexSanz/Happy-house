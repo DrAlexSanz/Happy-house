{
  "nbformat": 4,
  "nbformat_minor": 0,
  "metadata": {
    "colab": {
      "name": "Smile detector using Keras",
      "version": "0.3.2",
      "provenance": [],
      "collapsed_sections": [],
      "include_colab_link": true
    },
    "kernelspec": {
      "name": "python3",
      "display_name": "Python 3"
    },
    "accelerator": "GPU"
  },
  "cells": [
    {
      "cell_type": "markdown",
      "metadata": {
        "id": "view-in-github",
        "colab_type": "text"
      },
      "source": [
        "<a href=\"https://colab.research.google.com/github/DrAlexSanz/Happy-house/blob/master/Smile_detector_using_Keras.ipynb\" target=\"_parent\"><img src=\"https://colab.research.google.com/assets/colab-badge.svg\" alt=\"Open In Colab\"/></a>"
      ]
    },
    {
      "cell_type": "code",
      "metadata": {
        "id": "bz1YZDjgXbCu",
        "colab_type": "code",
        "colab": {
          "base_uri": "https://localhost:8080/",
          "height": 34
        },
        "outputId": "d95503ac-e6d9-4214-96f6-6901b5ddbec1"
      },
      "source": [
        "import numpy as np\n",
        "import keras\n",
        "import matplotlib.pyplot as plt\n",
        "import h5py\n",
        "\n",
        "keras.backend.set_image_data_format('channels_last')\n",
        "\n",
        "%matplotlib inline\n",
        "\n",
        "print(\"Everything imported correctly\")"
      ],
      "execution_count": 18,
      "outputs": [
        {
          "output_type": "stream",
          "text": [
            "Everything imported correctly\n"
          ],
          "name": "stdout"
        }
      ]
    },
    {
      "cell_type": "markdown",
      "metadata": {
        "id": "p5Jv8PlJYqtk",
        "colab_type": "text"
      },
      "source": [
        "Load the data, kill the previous files and clone github repo."
      ]
    },
    {
      "cell_type": "code",
      "metadata": {
        "id": "ui4Q9MNSY3Dl",
        "colab_type": "code",
        "colab": {
          "base_uri": "https://localhost:8080/",
          "height": 119
        },
        "outputId": "51f5f796-bde7-41c1-d53c-f1a09e863fb8"
      },
      "source": [
        "#First remove the folder and everything it contains.\n",
        "\n",
        "!rm -rf Happy-house\n",
        "\n",
        "#Now I clone the repository and everything works.\n",
        "\n",
        "! git clone https://github.com/DrAlexSanz/Happy-house.git"
      ],
      "execution_count": 19,
      "outputs": [
        {
          "output_type": "stream",
          "text": [
            "Cloning into 'Happy-house'...\n",
            "remote: Enumerating objects: 4, done.\u001b[K\n",
            "remote: Counting objects:  25% (1/4)\u001b[K\rremote: Counting objects:  50% (2/4)\u001b[K\rremote: Counting objects:  75% (3/4)\u001b[K\rremote: Counting objects: 100% (4/4)\u001b[K\rremote: Counting objects: 100% (4/4), done.\u001b[K\n",
            "remote: Compressing objects: 100% (4/4), done.\u001b[K\n",
            "remote: Total 4 (delta 0), reused 0 (delta 0), pack-reused 0\u001b[K\n",
            "Unpacking objects: 100% (4/4), done.\n"
          ],
          "name": "stdout"
        }
      ]
    },
    {
      "cell_type": "markdown",
      "metadata": {
        "id": "mzamnFvPZJ0U",
        "colab_type": "text"
      },
      "source": [
        "Now read data.\n",
        "\n"
      ]
    },
    {
      "cell_type": "code",
      "metadata": {
        "id": "uaN7OlV-ZFzE",
        "colab_type": "code",
        "colab": {
          "base_uri": "https://localhost:8080/",
          "height": 34
        },
        "outputId": "e62abc3d-5123-4cda-93d0-36ff42c7c78b"
      },
      "source": [
        "#Now read data\n",
        "\n",
        "with h5py.File(\"Happy-house/test_happy.h5\") as test:\n",
        "  test_x_1 = np.array(test[\"test_set_x\"][:]) # your train set features\n",
        "  test_y_1 = np.array(test[\"test_set_y\"][:]) # your train set labels\n",
        "  classes = np.array(test[\"list_classes\"][:]) # the list of classes\n",
        "\n",
        "with h5py.File(\"Happy-house/train_happy.h5\") as train:\n",
        "  train_x_1 = np.array(train[\"train_set_x\"][:]) # train set features\n",
        "  train_y_1 = np.array(train[\"train_set_y\"][:]) # train set labels\n",
        "\n",
        "print(\"Everything loaded and imported\")"
      ],
      "execution_count": 20,
      "outputs": [
        {
          "output_type": "stream",
          "text": [
            "Everything loaded and imported\n"
          ],
          "name": "stdout"
        }
      ]
    },
    {
      "cell_type": "markdown",
      "metadata": {
        "id": "N0xpQtFYZlHP",
        "colab_type": "text"
      },
      "source": [
        "Load one picture to check."
      ]
    },
    {
      "cell_type": "code",
      "metadata": {
        "id": "B0xJEoH2Znh1",
        "colab_type": "code",
        "colab": {
          "base_uri": "https://localhost:8080/",
          "height": 286
        },
        "outputId": "82d5229c-036b-4b15-b9c8-8238ce4040f5"
      },
      "source": [
        "plt.imshow(train_x_1[13])\n",
        "print(\"y = \" + str(train_y_1[13]))"
      ],
      "execution_count": 21,
      "outputs": [
        {
          "output_type": "stream",
          "text": [
            "y = 1\n"
          ],
          "name": "stdout"
        },
        {
          "output_type": "display_data",
          "data": {
            "image/png": "[encoded data removed]",
            "text/plain": [
              "<Figure size 432x288 with 1 Axes>"
            ]
          },
          "metadata": {
            "tags": []
          }
        }
      ]
    },
    {
      "cell_type": "code",
      "metadata": {
        "id": "9mWRHksLcEH4",
        "colab_type": "code",
        "colab": {}
      },
      "source": [
        "#Normalize\n",
        "\n",
        "train_x = train_x_1/255\n",
        "test_x = test_x_1/255\n",
        "\n",
        "train_y = train_y_1\n",
        "test_y = test_y_1"
      ],
      "execution_count": 0,
      "outputs": []
    },
    {
      "cell_type": "code",
      "metadata": {
        "id": "DC6tjp3_cQam",
        "colab_type": "code",
        "colab": {
          "base_uri": "https://localhost:8080/",
          "height": 286
        },
        "outputId": "b7c9caea-d162-4da9-b784-6bbdda6cf5c7"
      },
      "source": [
        "plt.imshow(train_x[13])\n",
        "print(\"y = \" + str(train_y[13]))"
      ],
      "execution_count": 23,
      "outputs": [
        {
          "output_type": "stream",
          "text": [
            "y = 1\n"
          ],
          "name": "stdout"
        },
        {
          "output_type": "display_data",
          "data": {
            "image/png": "[encoded data removed]",
            "text/plain": [
              "<Figure size 432x288 with 1 Axes>"
            ]
          },
          "metadata": {
            "tags": []
          }
        }
      ]
    },
    {
      "cell_type": "markdown",
      "metadata": {
        "id": "SmMP_e9EcklK",
        "colab_type": "text"
      },
      "source": [
        "Just for this time, after normalizing I won't see any difference in my picture. It's only a change of scale."
      ]
    },
    {
      "cell_type": "code",
      "metadata": {
        "id": "73sAkB_Tcw2y",
        "colab_type": "code",
        "colab": {
          "base_uri": "https://localhost:8080/",
          "height": 85
        },
        "outputId": "25b84bd9-448a-415a-94a5-0fb8ec76c779"
      },
      "source": [
        "print(\"X train shape is: \" + str(train_x.shape))\n",
        "print(\"Y train shape is: \" + str(train_y.shape))\n",
        "print(\"X test shape is: \" + str(test_x.shape))\n",
        "print(\"Y test shape is: \" + str(test_y.shape))"
      ],
      "execution_count": 24,
      "outputs": [
        {
          "output_type": "stream",
          "text": [
            "X train shape is: (600, 64, 64, 3)\n",
            "Y train shape is: (600,)\n",
            "X test shape is: (150, 64, 64, 3)\n",
            "Y test shape is: (150,)\n"
          ],
          "name": "stdout"
        }
      ]
    },
    {
      "cell_type": "markdown",
      "metadata": {
        "id": "3Ys7LyFUdPnz",
        "colab_type": "text"
      },
      "source": [
        "So I have 600 (+ 150 test) pictures of 64x64 in 3 colours."
      ]
    }
  ]
}