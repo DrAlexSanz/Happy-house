{
  "nbformat": 4,
  "nbformat_minor": 0,
  "metadata": {
    "colab": {
      "name": "Smile detector using Keras",
      "version": "0.3.2",
      "provenance": [],
      "collapsed_sections": [],
      "include_colab_link": true
    },
    "kernelspec": {
      "name": "python3",
      "display_name": "Python 3"
    },
    "accelerator": "GPU"
  },
  "cells": [
    {
      "cell_type": "markdown",
      "metadata": {
        "id": "view-in-github",
        "colab_type": "text"
      },
      "source": [
        "<a href=\"https://colab.research.google.com/github/DrAlexSanz/Happy-house/blob/master/Smile_detector_using_Keras.ipynb\" target=\"_parent\"><img src=\"https://colab.research.google.com/assets/colab-badge.svg\" alt=\"Open In Colab\"/></a>"
      ]
    },
    {
      "cell_type": "code",
      "metadata": {
        "id": "bz1YZDjgXbCu",
        "colab_type": "code",
        "outputId": "1708dfd7-b9b6-4bee-f5f1-cc212a5f205d",
        "colab": {
          "base_uri": "https://localhost:8080/",
          "height": 34
        }
      },
      "source": [
        "import numpy as np\n",
        "import keras\n",
        "import matplotlib.pyplot as plt\n",
        "import h5py\n",
        "\n",
        "from keras import layers, optimizers\n",
        "from keras.layers import Input, Dense, Conv2D, Activation, ZeroPadding2D, BatchNormalization, Flatten\n",
        "from keras.layers import AveragePooling2D, MaxPooling2D, Dropout, GlobalMaxPooling2D, GlobalAveragePooling2D\n",
        "\n",
        "from keras.models import Model, Sequential\n",
        "\n",
        "from keras.preprocessing import image\n",
        "\n",
        "from keras.utils import layer_utils, plot_model\n",
        "\n",
        "from keras.callbacks import History\n",
        "\n",
        "keras.backend.set_image_data_format('channels_last')\n",
        "\n",
        "%matplotlib inline\n",
        "\n",
        "print(\"Everything imported correctly\")"
      ],
      "execution_count": 253,
      "outputs": [
        {
          "output_type": "stream",
          "text": [
            "Everything imported correctly\n"
          ],
          "name": "stdout"
        }
      ]
    },
    {
      "cell_type": "markdown",
      "metadata": {
        "id": "p5Jv8PlJYqtk",
        "colab_type": "text"
      },
      "source": [
        "Load the data, kill the previous files and clone github repo."
      ]
    },
    {
      "cell_type": "code",
      "metadata": {
        "id": "ui4Q9MNSY3Dl",
        "colab_type": "code",
        "outputId": "8cb0b225-9e83-4dcd-f32c-3ba07b3ade1b",
        "colab": {
          "base_uri": "https://localhost:8080/",
          "height": 119
        }
      },
      "source": [
        "#First remove the folder and everything it contains.\n",
        "\n",
        "!rm -rf Happy-house\n",
        "\n",
        "#Now I clone the repository and everything works.\n",
        "\n",
        "! git clone https://github.com/DrAlexSanz/Happy-house.git"
      ],
      "execution_count": 254,
      "outputs": [
        {
          "output_type": "stream",
          "text": [
            "Cloning into 'Happy-house'...\n",
            "remote: Enumerating objects: 7, done.\u001b[K\n",
            "remote: Counting objects:  14% (1/7)\u001b[K\rremote: Counting objects:  28% (2/7)\u001b[K\rremote: Counting objects:  42% (3/7)\u001b[K\rremote: Counting objects:  57% (4/7)\u001b[K\rremote: Counting objects:  71% (5/7)\u001b[K\rremote: Counting objects:  85% (6/7)\u001b[K\rremote: Counting objects: 100% (7/7)\u001b[K\rremote: Counting objects: 100% (7/7), done.\u001b[K\n",
            "remote: Compressing objects: 100% (7/7), done.\u001b[K\n",
            "remote: Total 7 (delta 0), reused 0 (delta 0), pack-reused 0\u001b[K\n",
            "Unpacking objects: 100% (7/7), done.\n"
          ],
          "name": "stdout"
        }
      ]
    },
    {
      "cell_type": "markdown",
      "metadata": {
        "id": "mzamnFvPZJ0U",
        "colab_type": "text"
      },
      "source": [
        "Now read data.\n",
        "\n"
      ]
    },
    {
      "cell_type": "code",
      "metadata": {
        "id": "uaN7OlV-ZFzE",
        "colab_type": "code",
        "outputId": "97837173-5432-4842-a23f-5a6071a1abf6",
        "colab": {
          "base_uri": "https://localhost:8080/",
          "height": 34
        }
      },
      "source": [
        "#Now read data\n",
        "\n",
        "with h5py.File(\"Happy-house/test_happy.h5\") as test:\n",
        "  test_x_1 = np.array(test[\"test_set_x\"][:]) # your train set features\n",
        "  test_y_1 = np.array(test[\"test_set_y\"][:]) # your train set labels\n",
        "  classes = np.array(test[\"list_classes\"][:]) # the list of classes\n",
        "\n",
        "with h5py.File(\"Happy-house/train_happy.h5\") as train:\n",
        "  train_x_1 = np.array(train[\"train_set_x\"][:]) # train set features\n",
        "  train_y_1 = np.array(train[\"train_set_y\"][:]) # train set labels\n",
        "\n",
        "print(\"Everything loaded and imported\")"
      ],
      "execution_count": 255,
      "outputs": [
        {
          "output_type": "stream",
          "text": [
            "Everything loaded and imported\n"
          ],
          "name": "stdout"
        }
      ]
    },
    {
      "cell_type": "markdown",
      "metadata": {
        "id": "N0xpQtFYZlHP",
        "colab_type": "text"
      },
      "source": [
        "Load one picture to check."
      ]
    },
    {
      "cell_type": "code",
      "metadata": {
        "id": "B0xJEoH2Znh1",
        "colab_type": "code",
        "outputId": "05585553-5b50-4e18-f9e8-8d503247c82f",
        "colab": {
          "base_uri": "https://localhost:8080/",
          "height": 286
        }
      },
      "source": [
        "plt.imshow(train_x_1[13])\n",
        "print(\"y = \" + str(train_y_1[13]))"
      ],
      "execution_count": 256,
      "outputs": [
        {
          "output_type": "stream",
          "text": [
            "y = 1\n"
          ],
          "name": "stdout"
        },
        {
          "output_type": "display_data",
          "data": {
            "image/png": "[encoded data removed]",
            "text/plain": [
              "<Figure size 432x288 with 1 Axes>"
            ]
          },
          "metadata": {
            "tags": []
          }
        }
      ]
    },
    {
      "cell_type": "code",
      "metadata": {
        "id": "9mWRHksLcEH4",
        "colab_type": "code",
        "colab": {}
      },
      "source": [
        "#Normalize\n",
        "\n",
        "train_x = train_x_1/255\n",
        "test_x = test_x_1/255\n",
        "\n",
        "train_y = train_y_1\n",
        "test_y = test_y_1"
      ],
      "execution_count": 0,
      "outputs": []
    },
    {
      "cell_type": "code",
      "metadata": {
        "id": "DC6tjp3_cQam",
        "colab_type": "code",
        "outputId": "e38972c5-240e-465e-f77f-15bc187d232d",
        "colab": {
          "base_uri": "https://localhost:8080/",
          "height": 286
        }
      },
      "source": [
        "plt.imshow(train_x[13])\n",
        "print(\"y = \" + str(train_y[13]))"
      ],
      "execution_count": 258,
      "outputs": [
        {
          "output_type": "stream",
          "text": [
            "y = 1\n"
          ],
          "name": "stdout"
        },
        {
          "output_type": "display_data",
          "data": {
            "image/png": "[encoded data removed]",
            "text/plain": [
              "<Figure size 432x288 with 1 Axes>"
            ]
          },
          "metadata": {
            "tags": []
          }
        }
      ]
    },
    {
      "cell_type": "markdown",
      "metadata": {
        "id": "SmMP_e9EcklK",
        "colab_type": "text"
      },
      "source": [
        "Just for this time, after normalizing I won't see any difference in my picture. It's only a change of scale."
      ]
    },
    {
      "cell_type": "code",
      "metadata": {
        "id": "73sAkB_Tcw2y",
        "colab_type": "code",
        "outputId": "f12a08ce-1f36-4286-ed79-55b5dd403baf",
        "colab": {
          "base_uri": "https://localhost:8080/",
          "height": 85
        }
      },
      "source": [
        "print(\"X train shape is: \" + str(train_x.shape))\n",
        "print(\"Y train shape is: \" + str(train_y.shape))\n",
        "print(\"X test shape is: \" + str(test_x.shape))\n",
        "print(\"Y test shape is: \" + str(test_y.shape))"
      ],
      "execution_count": 259,
      "outputs": [
        {
          "output_type": "stream",
          "text": [
            "X train shape is: (600, 64, 64, 3)\n",
            "Y train shape is: (600,)\n",
            "X test shape is: (150, 64, 64, 3)\n",
            "Y test shape is: (150,)\n"
          ],
          "name": "stdout"
        }
      ]
    },
    {
      "cell_type": "markdown",
      "metadata": {
        "id": "3Ys7LyFUdPnz",
        "colab_type": "text"
      },
      "source": [
        "So I have 600 (+ 150 test) pictures of 64x64 in 3 colours.\n",
        "\n",
        "Now I will create a model in Keras that fits/predicts if the picture is \"smily\". The topology of the network is:\n",
        "\n",
        "\n",
        "\n",
        "1.   CONV, RELU, BatchNorm (x2)\n",
        "2.   Fully connected with a sigmoid because I predict 0 or 1 (1 layer, to be changed later).\n",
        "\n",
        "Batch norm is a way to isolate the layers from each other. This way, layer 3 does not affect layer 356 (for example) too much. If not used, this may cause exploding or vanishing gradients. This can be seen as in the chain rule, layer 1 depends on all the previous (following) layers. With a batch norm I decouple the system. There's a video by Ian Goodfellow and another by Andrew Ng, very good.\n",
        "\n"
      ]
    },
    {
      "cell_type": "code",
      "metadata": {
        "id": "vJRS7BAsP3Ja",
        "colab_type": "code",
        "colab": {}
      },
      "source": [
        "def happy_model(Input_Shape):\n",
        "  \"\"\"\n",
        "  The function implements the model for the happy house. Note that in TF I had the placeholders and all the X -> Z -> A\n",
        "  Here I use X to overwrite the values. This is how Keras works.\n",
        "  \n",
        "  Input is the shape of the images\n",
        "  \n",
        "  Output is the model() instance\n",
        "  \"\"\"\n",
        "  \n",
        "  batch = 32\n",
        "  filters_1 = 32\n",
        "  size_filter = 3\n",
        "  dropout_prob = 0\n",
        "  \n",
        "  x_input = Input_Shape\n",
        "  \n",
        "  model = Sequential()\n",
        "  \n",
        "  #First conv, relu, BN\n",
        "  \n",
        "  model.add(Conv2D(batch, kernel_size = (size_filter, size_filter), padding = \"same\", strides = (3, 3), input_shape = (x_input, x_input, 3)))\n",
        "            \n",
        "  model.add(Activation(\"relu\"))\n",
        "            \n",
        "  model.add(BatchNormalization())\n",
        "  \n",
        "  model.add(MaxPooling2D(pool_size=(2,2)))\n",
        "            \n",
        "  #First conv, relu, BN\n",
        "  \n",
        "  model.add(Conv2D(batch, kernel_size = (size_filter, size_filter), padding = \"same\", strides = (5, 5), input_shape = (x_input, x_input, 3)))\n",
        "            \n",
        "  model.add(Activation(\"relu\"))\n",
        "            \n",
        "  model.add(BatchNormalization())\n",
        "  \n",
        "  model.add(MaxPooling2D(pool_size=(2,2)))\n",
        "            \n",
        "  #Flatten and FC layer\n",
        "            \n",
        "  model.add(Flatten())\n",
        "  \n",
        "  model.add(Dense(1, activation = \"sigmoid\"))\n",
        "          \n",
        "  return model\n",
        "  \n",
        "  "
      ],
      "execution_count": 0,
      "outputs": []
    },
    {
      "cell_type": "markdown",
      "metadata": {
        "id": "xDor_DlNWuJk",
        "colab_type": "text"
      },
      "source": [
        "Now I have to create the model. Then I can train it and use it to predict."
      ]
    },
    {
      "cell_type": "code",
      "metadata": {
        "id": "A1QM0aphWx-O",
        "colab_type": "code",
        "colab": {
          "base_uri": "https://localhost:8080/",
          "height": 476
        },
        "outputId": "d978ca26-588b-45f3-cb47-25cf5b08874e"
      },
      "source": [
        "happy = happy_model(train_x.shape[1])\n",
        "\n",
        "# happy = happy_model(64)\n",
        "\n",
        "happy.summary()"
      ],
      "execution_count": 261,
      "outputs": [
        {
          "output_type": "stream",
          "text": [
            "_________________________________________________________________\n",
            "Layer (type)                 Output Shape              Param #   \n",
            "=================================================================\n",
            "conv2d_40 (Conv2D)           (None, 22, 22, 32)        896       \n",
            "_________________________________________________________________\n",
            "activation_34 (Activation)   (None, 22, 22, 32)        0         \n",
            "_________________________________________________________________\n",
            "batch_normalization_34 (Batc (None, 22, 22, 32)        128       \n",
            "_________________________________________________________________\n",
            "max_pooling2d_34 (MaxPooling (None, 11, 11, 32)        0         \n",
            "_________________________________________________________________\n",
            "conv2d_41 (Conv2D)           (None, 3, 3, 32)          9248      \n",
            "_________________________________________________________________\n",
            "activation_35 (Activation)   (None, 3, 3, 32)          0         \n",
            "_________________________________________________________________\n",
            "batch_normalization_35 (Batc (None, 3, 3, 32)          128       \n",
            "_________________________________________________________________\n",
            "max_pooling2d_35 (MaxPooling (None, 1, 1, 32)          0         \n",
            "_________________________________________________________________\n",
            "flatten_16 (Flatten)         (None, 32)                0         \n",
            "_________________________________________________________________\n",
            "dense_16 (Dense)             (None, 1)                 33        \n",
            "=================================================================\n",
            "Total params: 10,433\n",
            "Trainable params: 10,305\n",
            "Non-trainable params: 128\n",
            "_________________________________________________________________\n"
          ],
          "name": "stdout"
        }
      ]
    },
    {
      "cell_type": "markdown",
      "metadata": {
        "id": "YBeDHaqwZf_5",
        "colab_type": "text"
      },
      "source": [
        "So far it doesn't complain. Let's compile it."
      ]
    },
    {
      "cell_type": "code",
      "metadata": {
        "id": "TDJZnHtqZji8",
        "colab_type": "code",
        "colab": {}
      },
      "source": [
        "opti = optimizers.Adam(lr = 1e-3)\n",
        "\n",
        "happy.compile(loss = \"binary_crossentropy\", optimizer = opti, metrics = [\"accuracy\"])\n",
        "hist = History()"
      ],
      "execution_count": 0,
      "outputs": []
    },
    {
      "cell_type": "code",
      "metadata": {
        "id": "4VviCYU7aXmJ",
        "colab_type": "code",
        "colab": {
          "base_uri": "https://localhost:8080/",
          "height": 1000
        },
        "outputId": "b4e68f73-8573-434b-9450-276aac67ceec"
      },
      "source": [
        "num_epochs = 100\n",
        "\n",
        "happy.fit(train_x, train_y, batch_size = 128, epochs = num_epochs, validation_data = (test_x, test_y), shuffle = True, callbacks = [hist])"
      ],
      "execution_count": 263,
      "outputs": [
        {
          "output_type": "stream",
          "text": [
            "Train on 600 samples, validate on 150 samples\n",
            "Epoch 1/100\n",
            "600/600 [==============================] - 3s 4ms/step - loss: 0.8747 - acc: 0.5050 - val_loss: 0.7567 - val_acc: 0.5733\n",
            "Epoch 2/100\n",
            "600/600 [==============================] - 0s 190us/step - loss: 0.5477 - acc: 0.7283 - val_loss: 0.5490 - val_acc: 0.7333\n",
            "Epoch 3/100\n",
            "600/600 [==============================] - 0s 178us/step - loss: 0.4646 - acc: 0.7633 - val_loss: 0.6411 - val_acc: 0.6333\n",
            "Epoch 4/100\n",
            "600/600 [==============================] - 0s 184us/step - loss: 0.3908 - acc: 0.8667 - val_loss: 0.4589 - val_acc: 0.8067\n",
            "Epoch 5/100\n",
            "600/600 [==============================] - 0s 185us/step - loss: 0.3486 - acc: 0.8583 - val_loss: 0.4268 - val_acc: 0.8267\n",
            "Epoch 6/100\n",
            "600/600 [==============================] - 0s 203us/step - loss: 0.3092 - acc: 0.8817 - val_loss: 0.4072 - val_acc: 0.8267\n",
            "Epoch 7/100\n",
            "600/600 [==============================] - 0s 193us/step - loss: 0.2838 - acc: 0.9050 - val_loss: 0.3850 - val_acc: 0.8533\n",
            "Epoch 8/100\n",
            "600/600 [==============================] - 0s 182us/step - loss: 0.2558 - acc: 0.9200 - val_loss: 0.3651 - val_acc: 0.8400\n",
            "Epoch 9/100\n",
            "600/600 [==============================] - 0s 187us/step - loss: 0.2313 - acc: 0.9333 - val_loss: 0.3590 - val_acc: 0.8533\n",
            "Epoch 10/100\n",
            "600/600 [==============================] - 0s 181us/step - loss: 0.1992 - acc: 0.9450 - val_loss: 0.3444 - val_acc: 0.8533\n",
            "Epoch 11/100\n",
            "600/600 [==============================] - 0s 183us/step - loss: 0.1838 - acc: 0.9467 - val_loss: 0.3573 - val_acc: 0.8400\n",
            "Epoch 12/100\n",
            "600/600 [==============================] - 0s 185us/step - loss: 0.1587 - acc: 0.9617 - val_loss: 0.3346 - val_acc: 0.8600\n",
            "Epoch 13/100\n",
            "600/600 [==============================] - 0s 190us/step - loss: 0.1429 - acc: 0.9650 - val_loss: 0.3371 - val_acc: 0.8467\n",
            "Epoch 14/100\n",
            "600/600 [==============================] - 0s 190us/step - loss: 0.1255 - acc: 0.9683 - val_loss: 0.3310 - val_acc: 0.8600\n",
            "Epoch 15/100\n",
            "600/600 [==============================] - 0s 209us/step - loss: 0.1105 - acc: 0.9683 - val_loss: 0.3069 - val_acc: 0.8733\n",
            "Epoch 16/100\n",
            "600/600 [==============================] - 0s 188us/step - loss: 0.0978 - acc: 0.9700 - val_loss: 0.3332 - val_acc: 0.8600\n",
            "Epoch 17/100\n",
            "600/600 [==============================] - 0s 193us/step - loss: 0.0847 - acc: 0.9817 - val_loss: 0.2890 - val_acc: 0.8800\n",
            "Epoch 18/100\n",
            "600/600 [==============================] - 0s 189us/step - loss: 0.0787 - acc: 0.9867 - val_loss: 0.3155 - val_acc: 0.8600\n",
            "Epoch 19/100\n",
            "600/600 [==============================] - 0s 189us/step - loss: 0.0736 - acc: 0.9817 - val_loss: 0.2963 - val_acc: 0.8800\n",
            "Epoch 20/100\n",
            "600/600 [==============================] - 0s 178us/step - loss: 0.0621 - acc: 0.9933 - val_loss: 0.3596 - val_acc: 0.8400\n",
            "Epoch 21/100\n",
            "600/600 [==============================] - 0s 181us/step - loss: 0.0630 - acc: 0.9850 - val_loss: 0.2602 - val_acc: 0.8867\n",
            "Epoch 22/100\n",
            "600/600 [==============================] - 0s 179us/step - loss: 0.0508 - acc: 0.9933 - val_loss: 0.2939 - val_acc: 0.9000\n",
            "Epoch 23/100\n",
            "600/600 [==============================] - 0s 185us/step - loss: 0.0539 - acc: 0.9917 - val_loss: 0.3660 - val_acc: 0.8533\n",
            "Epoch 24/100\n",
            "600/600 [==============================] - 0s 194us/step - loss: 0.0481 - acc: 0.9933 - val_loss: 0.2598 - val_acc: 0.9067\n",
            "Epoch 25/100\n",
            "600/600 [==============================] - 0s 194us/step - loss: 0.0453 - acc: 0.9983 - val_loss: 0.4763 - val_acc: 0.7733\n",
            "Epoch 26/100\n",
            "600/600 [==============================] - 0s 181us/step - loss: 0.0397 - acc: 0.9967 - val_loss: 0.2635 - val_acc: 0.8933\n",
            "Epoch 27/100\n",
            "600/600 [==============================] - 0s 182us/step - loss: 0.0372 - acc: 0.9967 - val_loss: 0.2444 - val_acc: 0.9267\n",
            "Epoch 28/100\n",
            "600/600 [==============================] - 0s 194us/step - loss: 0.0376 - acc: 0.9967 - val_loss: 0.2140 - val_acc: 0.9133\n",
            "Epoch 29/100\n",
            "600/600 [==============================] - 0s 179us/step - loss: 0.0393 - acc: 0.9933 - val_loss: 0.2365 - val_acc: 0.9000\n",
            "Epoch 30/100\n",
            "600/600 [==============================] - 0s 190us/step - loss: 0.0266 - acc: 0.9983 - val_loss: 0.2180 - val_acc: 0.9133\n",
            "Epoch 31/100\n",
            "600/600 [==============================] - 0s 187us/step - loss: 0.0272 - acc: 0.9950 - val_loss: 0.2364 - val_acc: 0.9133\n",
            "Epoch 32/100\n",
            "600/600 [==============================] - 0s 180us/step - loss: 0.0285 - acc: 0.9967 - val_loss: 0.2438 - val_acc: 0.9200\n",
            "Epoch 33/100\n",
            "600/600 [==============================] - 0s 188us/step - loss: 0.0234 - acc: 0.9983 - val_loss: 0.2424 - val_acc: 0.9333\n",
            "Epoch 34/100\n",
            "600/600 [==============================] - 0s 182us/step - loss: 0.0204 - acc: 0.9983 - val_loss: 0.2003 - val_acc: 0.9133\n",
            "Epoch 35/100\n",
            "600/600 [==============================] - 0s 209us/step - loss: 0.0181 - acc: 0.9983 - val_loss: 0.2019 - val_acc: 0.9200\n",
            "Epoch 36/100\n",
            "600/600 [==============================] - 0s 181us/step - loss: 0.0180 - acc: 1.0000 - val_loss: 0.1977 - val_acc: 0.9200\n",
            "Epoch 37/100\n",
            "600/600 [==============================] - 0s 190us/step - loss: 0.0199 - acc: 0.9983 - val_loss: 0.2054 - val_acc: 0.9200\n",
            "Epoch 38/100\n",
            "600/600 [==============================] - 0s 179us/step - loss: 0.0184 - acc: 1.0000 - val_loss: 0.2231 - val_acc: 0.9200\n",
            "Epoch 39/100\n",
            "600/600 [==============================] - 0s 189us/step - loss: 0.0177 - acc: 0.9983 - val_loss: 0.2061 - val_acc: 0.9133\n",
            "Epoch 40/100\n",
            "600/600 [==============================] - 0s 184us/step - loss: 0.0141 - acc: 0.9983 - val_loss: 0.2559 - val_acc: 0.9067\n",
            "Epoch 41/100\n",
            "600/600 [==============================] - 0s 191us/step - loss: 0.0141 - acc: 1.0000 - val_loss: 0.2452 - val_acc: 0.9067\n",
            "Epoch 42/100\n",
            "600/600 [==============================] - 0s 205us/step - loss: 0.0120 - acc: 0.9983 - val_loss: 0.2053 - val_acc: 0.9333\n",
            "Epoch 43/100\n",
            "600/600 [==============================] - 0s 200us/step - loss: 0.0130 - acc: 0.9983 - val_loss: 0.2446 - val_acc: 0.9067\n",
            "Epoch 44/100\n",
            "600/600 [==============================] - 0s 182us/step - loss: 0.0098 - acc: 1.0000 - val_loss: 0.2383 - val_acc: 0.9133\n",
            "Epoch 45/100\n",
            "600/600 [==============================] - 0s 186us/step - loss: 0.0109 - acc: 0.9983 - val_loss: 0.2065 - val_acc: 0.9400\n",
            "Epoch 46/100\n",
            "600/600 [==============================] - 0s 180us/step - loss: 0.0108 - acc: 0.9983 - val_loss: 0.2022 - val_acc: 0.9333\n",
            "Epoch 47/100\n",
            "600/600 [==============================] - 0s 180us/step - loss: 0.0087 - acc: 0.9983 - val_loss: 0.1681 - val_acc: 0.9267\n",
            "Epoch 48/100\n",
            "600/600 [==============================] - 0s 180us/step - loss: 0.0084 - acc: 1.0000 - val_loss: 0.1675 - val_acc: 0.9333\n",
            "Epoch 49/100\n",
            "600/600 [==============================] - 0s 186us/step - loss: 0.0078 - acc: 1.0000 - val_loss: 0.1575 - val_acc: 0.9267\n",
            "Epoch 50/100\n",
            "600/600 [==============================] - 0s 180us/step - loss: 0.0073 - acc: 1.0000 - val_loss: 0.1695 - val_acc: 0.9333\n",
            "Epoch 51/100\n",
            "600/600 [==============================] - 0s 190us/step - loss: 0.0073 - acc: 1.0000 - val_loss: 0.1661 - val_acc: 0.9333\n",
            "Epoch 52/100\n",
            "600/600 [==============================] - 0s 183us/step - loss: 0.0073 - acc: 1.0000 - val_loss: 0.1627 - val_acc: 0.9400\n",
            "Epoch 53/100\n",
            "600/600 [==============================] - 0s 176us/step - loss: 0.0063 - acc: 1.0000 - val_loss: 0.1493 - val_acc: 0.9400\n",
            "Epoch 54/100\n",
            "600/600 [==============================] - 0s 176us/step - loss: 0.0064 - acc: 1.0000 - val_loss: 0.1595 - val_acc: 0.9200\n",
            "Epoch 55/100\n",
            "600/600 [==============================] - 0s 186us/step - loss: 0.0066 - acc: 1.0000 - val_loss: 0.1673 - val_acc: 0.9333\n",
            "Epoch 56/100\n",
            "600/600 [==============================] - 0s 179us/step - loss: 0.0058 - acc: 1.0000 - val_loss: 0.1524 - val_acc: 0.9400\n",
            "Epoch 57/100\n",
            "600/600 [==============================] - 0s 182us/step - loss: 0.0054 - acc: 1.0000 - val_loss: 0.1763 - val_acc: 0.9333\n",
            "Epoch 58/100\n",
            "600/600 [==============================] - 0s 176us/step - loss: 0.0059 - acc: 1.0000 - val_loss: 0.1686 - val_acc: 0.9333\n",
            "Epoch 59/100\n",
            "600/600 [==============================] - 0s 192us/step - loss: 0.0053 - acc: 1.0000 - val_loss: 0.1560 - val_acc: 0.9333\n",
            "Epoch 60/100\n",
            "600/600 [==============================] - 0s 196us/step - loss: 0.0052 - acc: 1.0000 - val_loss: 0.1651 - val_acc: 0.9467\n",
            "Epoch 61/100\n",
            "600/600 [==============================] - 0s 189us/step - loss: 0.0051 - acc: 1.0000 - val_loss: 0.1676 - val_acc: 0.9467\n",
            "Epoch 62/100\n",
            "600/600 [==============================] - 0s 183us/step - loss: 0.0048 - acc: 1.0000 - val_loss: 0.1652 - val_acc: 0.9400\n",
            "Epoch 63/100\n",
            "600/600 [==============================] - 0s 196us/step - loss: 0.0047 - acc: 1.0000 - val_loss: 0.1551 - val_acc: 0.9333\n",
            "Epoch 64/100\n",
            "600/600 [==============================] - 0s 197us/step - loss: 0.0046 - acc: 1.0000 - val_loss: 0.1510 - val_acc: 0.9333\n",
            "Epoch 65/100\n",
            "600/600 [==============================] - 0s 196us/step - loss: 0.0043 - acc: 1.0000 - val_loss: 0.1576 - val_acc: 0.9467\n",
            "Epoch 66/100\n",
            "600/600 [==============================] - 0s 194us/step - loss: 0.0040 - acc: 1.0000 - val_loss: 0.1490 - val_acc: 0.9400\n",
            "Epoch 67/100\n",
            "600/600 [==============================] - 0s 194us/step - loss: 0.0039 - acc: 1.0000 - val_loss: 0.1527 - val_acc: 0.9333\n",
            "Epoch 68/100\n",
            "600/600 [==============================] - 0s 202us/step - loss: 0.0036 - acc: 1.0000 - val_loss: 0.1622 - val_acc: 0.9467\n",
            "Epoch 69/100\n",
            "600/600 [==============================] - 0s 209us/step - loss: 0.0037 - acc: 1.0000 - val_loss: 0.1582 - val_acc: 0.9467\n",
            "Epoch 70/100\n",
            "600/600 [==============================] - 0s 187us/step - loss: 0.0033 - acc: 1.0000 - val_loss: 0.1587 - val_acc: 0.9467\n",
            "Epoch 71/100\n",
            "600/600 [==============================] - 0s 188us/step - loss: 0.0035 - acc: 1.0000 - val_loss: 0.1492 - val_acc: 0.9400\n",
            "Epoch 72/100\n",
            "600/600 [==============================] - 0s 188us/step - loss: 0.0031 - acc: 1.0000 - val_loss: 0.1599 - val_acc: 0.9400\n",
            "Epoch 73/100\n",
            "600/600 [==============================] - 0s 182us/step - loss: 0.0030 - acc: 1.0000 - val_loss: 0.1641 - val_acc: 0.9467\n",
            "Epoch 74/100\n",
            "600/600 [==============================] - 0s 186us/step - loss: 0.0031 - acc: 1.0000 - val_loss: 0.1548 - val_acc: 0.9400\n",
            "Epoch 75/100\n",
            "600/600 [==============================] - 0s 188us/step - loss: 0.0034 - acc: 1.0000 - val_loss: 0.1635 - val_acc: 0.9467\n",
            "Epoch 76/100\n",
            "600/600 [==============================] - 0s 200us/step - loss: 0.0030 - acc: 1.0000 - val_loss: 0.1621 - val_acc: 0.9467\n",
            "Epoch 77/100\n",
            "600/600 [==============================] - 0s 189us/step - loss: 0.0028 - acc: 1.0000 - val_loss: 0.1578 - val_acc: 0.9467\n",
            "Epoch 78/100\n",
            "600/600 [==============================] - 0s 213us/step - loss: 0.0030 - acc: 1.0000 - val_loss: 0.1597 - val_acc: 0.9467\n",
            "Epoch 79/100\n",
            "600/600 [==============================] - 0s 186us/step - loss: 0.0027 - acc: 1.0000 - val_loss: 0.1744 - val_acc: 0.9467\n",
            "Epoch 80/100\n",
            "600/600 [==============================] - 0s 186us/step - loss: 0.0027 - acc: 1.0000 - val_loss: 0.1717 - val_acc: 0.9467\n",
            "Epoch 81/100\n",
            "600/600 [==============================] - 0s 195us/step - loss: 0.0025 - acc: 1.0000 - val_loss: 0.1654 - val_acc: 0.9467\n",
            "Epoch 82/100\n",
            "600/600 [==============================] - 0s 179us/step - loss: 0.0023 - acc: 1.0000 - val_loss: 0.1652 - val_acc: 0.9467\n",
            "Epoch 83/100\n",
            "600/600 [==============================] - 0s 185us/step - loss: 0.0023 - acc: 1.0000 - val_loss: 0.1649 - val_acc: 0.9467\n",
            "Epoch 84/100\n",
            "600/600 [==============================] - 0s 195us/step - loss: 0.0023 - acc: 1.0000 - val_loss: 0.1704 - val_acc: 0.9467\n",
            "Epoch 85/100\n",
            "600/600 [==============================] - 0s 195us/step - loss: 0.0021 - acc: 1.0000 - val_loss: 0.1614 - val_acc: 0.9400\n",
            "Epoch 86/100\n",
            "600/600 [==============================] - 0s 194us/step - loss: 0.0021 - acc: 1.0000 - val_loss: 0.1647 - val_acc: 0.9467\n",
            "Epoch 87/100\n",
            "600/600 [==============================] - 0s 192us/step - loss: 0.0019 - acc: 1.0000 - val_loss: 0.1707 - val_acc: 0.9467\n",
            "Epoch 88/100\n",
            "600/600 [==============================] - 0s 184us/step - loss: 0.0020 - acc: 1.0000 - val_loss: 0.1677 - val_acc: 0.9467\n",
            "Epoch 89/100\n",
            "600/600 [==============================] - 0s 184us/step - loss: 0.0020 - acc: 1.0000 - val_loss: 0.1659 - val_acc: 0.9400\n",
            "Epoch 90/100\n",
            "600/600 [==============================] - 0s 188us/step - loss: 0.0019 - acc: 1.0000 - val_loss: 0.1671 - val_acc: 0.9467\n",
            "Epoch 91/100\n",
            "600/600 [==============================] - 0s 185us/step - loss: 0.0020 - acc: 1.0000 - val_loss: 0.1668 - val_acc: 0.9467\n",
            "Epoch 92/100\n",
            "600/600 [==============================] - 0s 186us/step - loss: 0.0017 - acc: 1.0000 - val_loss: 0.1716 - val_acc: 0.9467\n",
            "Epoch 93/100\n",
            "600/600 [==============================] - 0s 192us/step - loss: 0.0019 - acc: 1.0000 - val_loss: 0.1671 - val_acc: 0.9400\n",
            "Epoch 94/100\n",
            "600/600 [==============================] - 0s 193us/step - loss: 0.0019 - acc: 1.0000 - val_loss: 0.1777 - val_acc: 0.9467\n",
            "Epoch 95/100\n",
            "600/600 [==============================] - 0s 181us/step - loss: 0.0020 - acc: 1.0000 - val_loss: 0.1735 - val_acc: 0.9467\n",
            "Epoch 96/100\n",
            "600/600 [==============================] - 0s 193us/step - loss: 0.0017 - acc: 1.0000 - val_loss: 0.1705 - val_acc: 0.9467\n",
            "Epoch 97/100\n",
            "600/600 [==============================] - 0s 186us/step - loss: 0.0015 - acc: 1.0000 - val_loss: 0.1687 - val_acc: 0.9467\n",
            "Epoch 98/100\n",
            "600/600 [==============================] - 0s 180us/step - loss: 0.0016 - acc: 1.0000 - val_loss: 0.1743 - val_acc: 0.9467\n",
            "Epoch 99/100\n",
            "600/600 [==============================] - 0s 185us/step - loss: 0.0016 - acc: 1.0000 - val_loss: 0.1736 - val_acc: 0.9333\n",
            "Epoch 100/100\n",
            "600/600 [==============================] - 0s 200us/step - loss: 0.0017 - acc: 1.0000 - val_loss: 0.1693 - val_acc: 0.9400\n"
          ],
          "name": "stdout"
        },
        {
          "output_type": "execute_result",
          "data": {
            "text/plain": [
              "<keras.callbacks.History at 0x7fe751d55da0>"
            ]
          },
          "metadata": {
            "tags": []
          },
          "execution_count": 263
        }
      ]
    },
    {
      "cell_type": "markdown",
      "metadata": {
        "id": "Zr9dI4J-a8rW",
        "colab_type": "text"
      },
      "source": [
        "And it trains ok. It's a super simple network so it goes fast. I'll do a more complicated one later. It may not be necessary but it's good to play with all the parameters."
      ]
    },
    {
      "cell_type": "code",
      "metadata": {
        "id": "mAQHewI0bIHx",
        "colab_type": "code",
        "colab": {
          "base_uri": "https://localhost:8080/",
          "height": 68
        },
        "outputId": "1aab73ab-efd0-404c-ad6e-6f27c5cbf8b1"
      },
      "source": [
        "pred = happy.evaluate(test_x, test_y)\n",
        "\n",
        "print(\"Loss is: \" + str(pred[0]))\n",
        "print(\"Accuracy is: \" + str(pred[1]))"
      ],
      "execution_count": 264,
      "outputs": [
        {
          "output_type": "stream",
          "text": [
            "150/150 [==============================] - 0s 209us/step\n",
            "Loss is: 0.16932111978530884\n",
            "Accuracy is: 0.940000003973643\n"
          ],
          "name": "stdout"
        }
      ]
    },
    {
      "cell_type": "code",
      "metadata": {
        "id": "S6Jxwod4b3b9",
        "colab_type": "code",
        "colab": {
          "base_uri": "https://localhost:8080/",
          "height": 303
        },
        "outputId": "e4422008-0b17-41a1-fc69-8a4ff489fbbe"
      },
      "source": [
        "print(hist.history.keys())\n",
        "\n",
        "plt.figure();\n",
        "\n",
        "plt.plot(range(num_epochs), list(hist.history.values())[0], label = \"Test loss\");\n",
        "plt.plot(range(num_epochs), list(hist.history.values())[2], label = \"Train loss\");\n",
        "plt.legend(loc = \"best\")"
      ],
      "execution_count": 265,
      "outputs": [
        {
          "output_type": "stream",
          "text": [
            "dict_keys(['val_loss', 'val_acc', 'loss', 'acc'])\n"
          ],
          "name": "stdout"
        },
        {
          "output_type": "execute_result",
          "data": {
            "text/plain": [
              "<matplotlib.legend.Legend at 0x7fe752dfeac8>"
            ]
          },
          "metadata": {
            "tags": []
          },
          "execution_count": 265
        },
        {
          "output_type": "display_data",
          "data": {
            "image/png": "[encoded data removed]",
            "text/plain": [
              "<Figure size 432x288 with 1 Axes>"
            ]
          },
          "metadata": {
            "tags": []
          }
        }
      ]
    },
    {
      "cell_type": "code",
      "metadata": {
        "id": "OUB0BtKlicEt",
        "colab_type": "code",
        "colab": {
          "base_uri": "https://localhost:8080/",
          "height": 286
        },
        "outputId": "c5f436b6-0d17-40be-8ce0-0627fd4c440b"
      },
      "source": [
        "plt.figure();\n",
        "\n",
        "plt.plot(range(num_epochs), list(hist.history.values())[1], label = \"Test acc\");\n",
        "plt.plot(range(num_epochs), list(hist.history.values())[3], label = \"Train acc\");\n",
        "plt.legend(loc = \"best\")"
      ],
      "execution_count": 266,
      "outputs": [
        {
          "output_type": "execute_result",
          "data": {
            "text/plain": [
              "<matplotlib.legend.Legend at 0x7fe755c7fa90>"
            ]
          },
          "metadata": {
            "tags": []
          },
          "execution_count": 266
        },
        {
          "output_type": "display_data",
          "data": {
            "image/png": "[encoded data removed]",
            "text/plain": [
              "<Figure size 432x288 with 1 Axes>"
            ]
          },
          "metadata": {
            "tags": []
          }
        }
      ]
    }
  ]
}